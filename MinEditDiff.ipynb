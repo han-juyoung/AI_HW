{
  "nbformat": 4,
  "nbformat_minor": 0,
  "metadata": {
    "colab": {
      "name": "MinEditDiff.ipynb",
      "provenance": [],
      "collapsed_sections": [],
      "authorship_tag": "ABX9TyPZZUz25D3oLzvK92bnYyWK",
      "include_colab_link": true
    },
    "kernelspec": {
      "name": "python3",
      "display_name": "Python 3"
    },
    "language_info": {
      "name": "python"
    }
  },
  "cells": [
    {
      "cell_type": "markdown",
      "metadata": {
        "id": "view-in-github",
        "colab_type": "text"
      },
      "source": [
        "<a href=\"https://colab.research.google.com/github/han-juyoung/AI_HW/blob/main/MinEditDiff.ipynb\" target=\"_parent\"><img src=\"https://colab.research.google.com/assets/colab-badge.svg\" alt=\"Open In Colab\"/></a>"
      ]
    },
    {
      "cell_type": "markdown",
      "metadata": {
        "id": "3bxesSs1ishY"
      },
      "source": [
        "HW#4: 최소 편집 거리 프로그래밍 과제\n",
        "\n",
        "문자열 a와 b가 주어졌을 때, a에 연산을 최소 횟수로 수행해 b로 만들고자 한다.\n",
        "\n",
        "a에 적용할 수 있는 연산은 총 3가지이며 아래와 같다.\n",
        "\n",
        "* 연산\n",
        "\n",
        "1. 삽입(Add): a의 한 위치에 문자 하나를 삽입, 이 때의 비용은 5가 발생한다.\n",
        "\n",
        "2. 삭제(Delete): a의 문자 하나 삭제, 이 때의 비용은 5가 발생한다.\n",
        "\n",
        "3. 교체(Replace): a의 문자 하나를 다른 문자로 교체. 이 때의 비용은 다음과 같이 발생한다.\n",
        "\n",
        "(a) 대소문자만 다른 경우(예. a와 A): 1\n",
        "\n",
        "(b) 둘 다 숫자인 경우(예. 3과 5): abs(a[i] - b[j]) = abs(3 – 5) = 2\n",
        "\n",
        "(c) 하나는 알파벳, 다른 하나는 숫자인 경우(예. a와 3): 7\n",
        "\n",
        "(d) 둘 다 알파벳이면서 다른 경우(예. a와 c): 5\n",
        "\n",
        "(e) 동일한 경우: 0\n",
        "\n",
        "두 문자열이 주어졌을 때, 최소 비용(최소 편집 횟수)를 구하는 프로그램을 작성하시오.\n",
        "\n",
        "\n",
        "\n",
        "(입력) 첫째 줄에 a, 두번째 줄에 b가 입력으로 주어진다.\n",
        "\n",
        "(출력) 최소 비용(최소 편집 횟수)를 출력하시오.\n",
        "\n",
        "\n",
        "\n",
        "(예제 1)\n",
        "- 입력 \n",
        "abc\n",
        "aBc\n",
        "- 출력\n",
        "1\n",
        "\n",
        "(예제 2)\n",
        "- 입력\n",
        "123\n",
        "a129\n",
        "- 출력\n",
        "11\n",
        "\n",
        "(예제 3)\n",
        "- 입력\n",
        "abc123\n",
        "abcd\n",
        "- 출력\n",
        "17\n",
        "---"
      ]
    },
    {
      "cell_type": "code",
      "metadata": {
        "colab": {
          "base_uri": "https://localhost:8080/"
        },
        "id": "BD5Y0z8omC9I",
        "outputId": "2e14ad24-85a9-4e4d-c22f-642e85e8f207"
      },
      "source": [
        "print('- 입력')\n",
        "a = input()\n",
        "b = input()\n",
        "\n",
        "a_length = len(a)+1\n",
        "b_length = len(b)+1\n",
        "table = [[0]*b_length for _ in range(a_length)]\n",
        "table[0][0] = 0\n",
        "\n",
        "for j in range(1,a_length):\n",
        "  table[j][0] = table[j-1][0] + 5\n",
        "\n",
        "for i in range(1,b_length):\n",
        "  table[0][i] = table[0][i-1] + 5\n",
        "\n",
        "for i in range(1,a_length):\n",
        "    for j in range(1,b_length):\n",
        "        cost = 0\n",
        "        if a[i-1] == b[j-1]:\n",
        "          # 동일한 경우\n",
        "          cost = 0\n",
        "        elif a[i-1].upper() == b[j-1].upper():\n",
        "          # 대소문자만 다른 경우\n",
        "          cost = 1\n",
        "        elif a[i-1].isdigit() and b[j-1].isdigit():\n",
        "          # 둘 다 숫자인 경우\n",
        "          cost = abs(int(a[i-1]) - int(b[j-1]))\n",
        "        elif a[i-1].isdigit() and b[j-1].isalpha() or a[i-1].isalpha() and b[j-1].isdigit():\n",
        "          # 하나는 알파벳, 다른 하나는 숫자인 경우\n",
        "          cost = 7\n",
        "        elif a[i-1].isalpha() and b[j-1].isalpha():\n",
        "          # 둘다 알파벳이면서 다른 경우 \n",
        "          cost = 5\n",
        "        \n",
        "        table[i][j] = min(\n",
        "          table[i-1][j-1] + cost, # 교체 비용\n",
        "          table[i][j-1] + 5, # 삽입 비용\n",
        "          table[i-1][j] + 5, # 삭제 비용          \n",
        "        )\n",
        "\n",
        "print('- 출력')\n",
        "print(table[a_length-1][b_length-1])"
      ],
      "execution_count": 1,
      "outputs": [
        {
          "output_type": "stream",
          "name": "stdout",
          "text": [
            "- 입력\n",
            "abc\n",
            "aBc\n",
            "- 출력\n",
            "1\n"
          ]
        }
      ]
    }
  ]
}